{
 "cells": [
  {
   "cell_type": "markdown",
   "id": "b6c35ee0-4ef6-474a-8aa6-647b35597933",
   "metadata": {
    "jp-MarkdownHeadingCollapsed": true,
    "tags": []
   },
   "source": [
    "# `TODO`  \n",
    "\n",
    "``` HTML\n",
    "[ANALYSE]   >> Remove vertices with low confidence (using 'R2' values from the PRF results)\n",
    "[ANALYSE]   >> Average analysis results across subjects\n",
    "\n",
    "[ANALYSE]   >> Distance calculations per grid -- <DONE>\n",
    "[ANALYSE]   >> Divide metric into grids and compute distances with variance of groups -- <DONE>\n",
    "[ANALYSE]   >> Find way to compute 'correlation' between space-metric space plots -- <DONE> (TSNE-PLOTS!)\n",
    "[VISUALIZE] >> TSNE embedding in space-metric plot -- <DONE>\n",
    "[VISUALIZE] >> Polar plots per functional pracellation -- <DONE>\n",
    "[VISUALIZE] >> Create polar heatmap of distances from distance analysis on grids -- <DONE>\n",
    "```\n",
    "\n",
    "---"
   ]
  },
  {
   "cell_type": "markdown",
   "id": "51e7e29b-cea2-4be5-bba0-4eec08edec10",
   "metadata": {
    "jp-MarkdownHeadingCollapsed": true,
    "tags": []
   },
   "source": [
    "# Imports"
   ]
  },
  {
   "cell_type": "code",
   "execution_count": 1,
   "id": "f792f409-424d-4ee0-bbc3-2a480ad85538",
   "metadata": {},
   "outputs": [],
   "source": [
    "import sys\n",
    "import os"
   ]
  },
  {
   "cell_type": "code",
   "execution_count": 2,
   "id": "e0848129-a6eb-4d2e-a282-9cd8e4de92c3",
   "metadata": {},
   "outputs": [],
   "source": [
    "import math"
   ]
  },
  {
   "cell_type": "code",
   "execution_count": 3,
   "id": "2f96f852-218b-45f5-bd10-ca9899c1a2f9",
   "metadata": {},
   "outputs": [],
   "source": [
    "from itertools import chain, cycle"
   ]
  },
  {
   "cell_type": "markdown",
   "id": "f23bfc5c-5204-416c-99b0-8dc199b4c8ec",
   "metadata": {},
   "source": [
    "---"
   ]
  },
  {
   "cell_type": "code",
   "execution_count": 4,
   "id": "7bae8bbf-5751-4f5a-9cd5-a80556217bdb",
   "metadata": {},
   "outputs": [],
   "source": [
    "import numpy as np"
   ]
  },
  {
   "cell_type": "code",
   "execution_count": 5,
   "id": "2b99ab66-af16-4009-abd9-86eafd5514d2",
   "metadata": {},
   "outputs": [],
   "source": [
    "import pandas as pd"
   ]
  },
  {
   "cell_type": "code",
   "execution_count": 6,
   "id": "445f41cd-5f68-41d0-af9d-0218b3c30a78",
   "metadata": {},
   "outputs": [],
   "source": [
    "import matplotlib.pyplot as plt\n",
    "import matplotlib.patches as mpatches"
   ]
  },
  {
   "cell_type": "code",
   "execution_count": 7,
   "id": "b259af6a-8638-49c0-8b62-29a43535b4eb",
   "metadata": {},
   "outputs": [],
   "source": [
    "import seaborn as sns"
   ]
  },
  {
   "cell_type": "code",
   "execution_count": 8,
   "id": "3b1cbe96-b856-4452-985f-1b4122b770e3",
   "metadata": {},
   "outputs": [],
   "source": [
    "import scipy as sc"
   ]
  },
  {
   "cell_type": "code",
   "execution_count": 9,
   "id": "a230a10b-6b45-4058-bf00-35c10c12c7e4",
   "metadata": {},
   "outputs": [],
   "source": [
    "from sklearn.manifold import TSNE"
   ]
  },
  {
   "cell_type": "markdown",
   "id": "3467c46a-5700-47c4-83dd-25a7ea63a6fa",
   "metadata": {},
   "source": [
    "---"
   ]
  },
  {
   "cell_type": "code",
   "execution_count": 10,
   "id": "1d4233e5-8b7c-455e-ab97-9bebefa1c1b2",
   "metadata": {},
   "outputs": [],
   "source": [
    "import mat73"
   ]
  },
  {
   "cell_type": "markdown",
   "id": "96ba21f0-b2d6-4e7e-bc54-0ad4e737d79e",
   "metadata": {},
   "source": [
    "---"
   ]
  },
  {
   "cell_type": "code",
   "execution_count": 11,
   "id": "4d2e813c-74d6-434d-9188-bd16c5b1c94c",
   "metadata": {},
   "outputs": [],
   "source": [
    "import neuropythy as ny"
   ]
  },
  {
   "cell_type": "code",
   "execution_count": 12,
   "id": "e1c3ea42-f14f-43b4-be5d-a7e31946ae49",
   "metadata": {},
   "outputs": [],
   "source": [
    "import nibabel as nib"
   ]
  },
  {
   "cell_type": "code",
   "execution_count": 13,
   "id": "d2b4a700-a71b-4b75-9cf5-3b4660bf2a59",
   "metadata": {},
   "outputs": [],
   "source": [
    "# import hcp_utils as hcp"
   ]
  },
  {
   "cell_type": "markdown",
   "id": "5c8c7546-3443-41ca-9c5b-b2265863c6e9",
   "metadata": {},
   "source": [
    "---"
   ]
  },
  {
   "cell_type": "raw",
   "id": "50ee86c9-4e5c-4f9f-897a-61b38e8c95fd",
   "metadata": {},
   "source": [
    "import mne"
   ]
  },
  {
   "cell_type": "raw",
   "id": "d9b44629-1484-4217-ad29-47cb94d49351",
   "metadata": {},
   "source": [
    "from pyvista import start_xvfb"
   ]
  },
  {
   "cell_type": "markdown",
   "id": "b44955e5-6f71-479c-adfe-5630104f75c9",
   "metadata": {},
   "source": [
    "---"
   ]
  },
  {
   "cell_type": "code",
   "execution_count": 14,
   "id": "41111963-30b3-49ad-8f01-10a591dee442",
   "metadata": {},
   "outputs": [],
   "source": [
    "import logging"
   ]
  },
  {
   "cell_type": "code",
   "execution_count": 15,
   "id": "0c1c5bec-c827-4b10-b2c3-1d5750e94e47",
   "metadata": {},
   "outputs": [],
   "source": [
    "import warnings"
   ]
  },
  {
   "cell_type": "code",
   "execution_count": 16,
   "id": "bc17547c-b643-488e-baef-48cdf79bb2f2",
   "metadata": {},
   "outputs": [],
   "source": [
    "from IPython.display import display, display_html"
   ]
  },
  {
   "cell_type": "code",
   "execution_count": 17,
   "id": "eb259187-119a-4bdc-9236-0a6a2b277bfa",
   "metadata": {},
   "outputs": [],
   "source": [
    "from tqdm import tqdm"
   ]
  },
  {
   "cell_type": "markdown",
   "id": "30878d08",
   "metadata": {},
   "source": [
    "---"
   ]
  },
  {
   "cell_type": "code",
   "execution_count": 18,
   "id": "25c90752",
   "metadata": {},
   "outputs": [],
   "source": [
    "from utils import HCP_S3"
   ]
  },
  {
   "cell_type": "markdown",
   "id": "003251f4-3a22-4092-a33f-da23aa1e74c3",
   "metadata": {
    "jp-MarkdownHeadingCollapsed": true,
    "tags": []
   },
   "source": [
    "## Config"
   ]
  },
  {
   "cell_type": "code",
   "execution_count": 19,
   "id": "d7200760-55ad-4c80-bb33-19ce23ed5451",
   "metadata": {},
   "outputs": [],
   "source": [
    "# logging\n",
    "logging.getLogger().setLevel(logging.INFO)"
   ]
  },
  {
   "cell_type": "code",
   "execution_count": 20,
   "id": "96bd5caa-a9ab-4462-846d-ffdcd7825bd5",
   "metadata": {},
   "outputs": [],
   "source": [
    "# warnings\n",
    "# warnings.filterwarnings('ignore')"
   ]
  },
  {
   "cell_type": "raw",
   "id": "eb0a3c58-66dd-45bc-9353-86d0eeb6486b",
   "metadata": {},
   "source": [
    "# pyvista -> mne\n",
    "start_xvfb()"
   ]
  },
  {
   "cell_type": "raw",
   "id": "e2a1d490-979f-47e9-ac7c-b68408d1e864",
   "metadata": {},
   "source": [
    "# matplotlib\n",
    "%matplotlib qt"
   ]
  },
  {
   "cell_type": "markdown",
   "id": "5fc5587e-ef4c-4586-af95-77c8ced5b6f5",
   "metadata": {
    "jp-MarkdownHeadingCollapsed": true,
    "tags": []
   },
   "source": [
    "# ---\n",
    "# Constants"
   ]
  },
  {
   "cell_type": "code",
   "execution_count": 21,
   "id": "cf4bbf89-f80a-4fd0-966e-a0e3f25435db",
   "metadata": {},
   "outputs": [],
   "source": [
    "ANG_MESH = np.linspace(0, 360, 61)\n",
    "ECC_MESH = np.logspace(0, 4, 9, base=2) - 1 # np.array([0., 2, 5, 8, 12, 16]) # "
   ]
  },
  {
   "cell_type": "markdown",
   "id": "b943fd2c-dac3-4c8b-ac36-fa5c4dd349b5",
   "metadata": {
    "tags": []
   },
   "source": [
    "# Functions"
   ]
  },
  {
   "cell_type": "code",
   "execution_count": 22,
   "id": "25ba38b0-b41d-47da-90a1-9e385f1f8291",
   "metadata": {},
   "outputs": [],
   "source": [
    "def get_coors(sid=100610, volume_space='native', surface_mesh='fs_lr_low', surface_type='midthickness', msm_alignment_method='msmall', hemisphere='both', directory='hcp-subjects'):\n",
    "    \"\"\" Gets the grayordinate coordinates of a subject for the given volume and surface space, surface type, surface alignment method, and hemisphere. \n",
    "\n",
    "    Example of files to get,\n",
    "    - 100610/T1w/fsaverage_LR32k/100610.L.midthickness_MSMAll.32k_fs_LR.surf.gii\n",
    "    - 100610/T1w/fsaverage_LR32k/100610.R.midthickness_MSMAll.32k_fs_LR.surf.gii\n",
    "    - 100610/MNINonLinear/fsaverage_LR32k/100610.L.atlasroi.32k_fs_LR.shape.gii\n",
    "    - 100610/MNINonLinear/fsaverage_LR32k/100610.R.atlasroi.32k_fs_LR.shape.gii\n",
    "\n",
    "    Parameters\n",
    "    ----------\n",
    "    sid : int, optional\n",
    "        Serial ID of the participant, by default 100610.\n",
    "    volume_space : {'native', 'mni'}, optional\n",
    "        The volume space for the coordinates, by default 'native'.\n",
    "    surface_mesh : {'native', 'fs_lr_high', 'fs_lr_med', 'fs_lr_low'}, optional\n",
    "        The surface mesh for the coordinates, by default 'native'.\n",
    "    surface_type : {flat, white, pial, midthickness, sphere, inflated, very_inflated}, optional\n",
    "        The surface type for the coordinates, by default 'midthickness'.\n",
    "    msm_alignment_method: {'msmsulc', 'msmall', None}, optional\n",
    "        The surface alignment method used by MSM, by default 'msmall'.\n",
    "    hemisphere : {'left', 'right', 'both'}, optional\n",
    "        The hemisphere to get coordinates for, by default 'both'.\n",
    "    directory : str, optional\n",
    "        The path to HCP subjects root directory under './data/', by default 'hcp-subjects'.\n",
    "\n",
    "    Returns\n",
    "    -------\n",
    "    numpy.darray\n",
    "        List of 3D coordinates of the requested surface; [left_hemisphere_vertices; right_hemisphere_cortices]. # ; subcortical_voxels.\n",
    "    \"\"\"\n",
    "    \n",
    "    if msm_alignment_method is None and not surface_mesh == 'native' and surface_type not in {'flat', 'sphere'}:\n",
    "        logging.warning('`None` as MSM alignment method is only valid for native surface mesh (probably also only in MNI volume space)! Defaulting to MSMAll method.')\n",
    "        msm_alignment_method = 'msmall'\n",
    "    \n",
    "    if surface_type != 'sphere' and volume_space == 'mni' and surface_mesh == 'native':\n",
    "        raise ValueError('Only spherical surface type available for native surface mesh in MNI volume space!')\n",
    "    \n",
    "    if volume_space == 'native' and surface_mesh == 'fs_lr_high':\n",
    "        raise ValueError('164k vertex high resolution Conte69 registered standard surface mesh only available in MNI volume space!')\n",
    "    \n",
    "    if volume_space == 'native' and surface_mesh == 'native':\n",
    "        if msm_alignment_method == 'msmall':\n",
    "            logging.warning('MSMAll alignment method not available for native surface mesh in native volume space! Using MSMSulc method instead.')\n",
    "        logging.info('The method is not specified in the available files for native surface mesh in native volume space. Probably MSMSulc.')\n",
    "        msm_alignment_method = None\n",
    "    \n",
    "    volume_space_label = {'native': 'T1w', 'mni': 'MNINonLinear'}[volume_space]\n",
    "    surface_mesh_label = {'native': 'Native', 'fs_lr_high': '.', 'fs_lr_med': 'fsaverage_LR59k', 'fs_lr_low': 'fsaverage_LR32k'}[surface_mesh]\n",
    "    surface_mesh_label_2 = {'native': 'native', 'fs_lr_high': '164k_fs_LR', 'fs_lr_med': '59k_fs_LR', 'fs_lr_low': '32k_fs_LR'}[surface_mesh]\n",
    "    # msm_alignment_method_label = \n",
    "    if surface_type in {'flat', 'sphere'}:\n",
    "        if msm_alignment_method == 'msmall':\n",
    "            logging.warning(f'MSMAll alignment method not available for {surface_type} surface mesh! Using MSMSulc method instead.')\n",
    "        logging.info('The method is not specified in the available files for flat and spherical meshes. Probably MSMSulc.')\n",
    "        msm_alignment_method_label = ''\n",
    "    elif surface_mesh == 'native':\n",
    "        msm_alignment_method_label = {'msmsulc': '.MSMAll', 'msmall': '.MSMSulc', None: ''}[msm_alignment_method]\n",
    "    elif surface_mesh == 'fs_lr_med':\n",
    "        msm_alignment_method_label = {'msmsulc': '', 'msmall': '_1.6mm_MSMAll'}[msm_alignment_method]\n",
    "    else:\n",
    "        msm_alignment_method_label = {'msmsulc': '', 'msmall': '_MSMAll'}[msm_alignment_method]\n",
    "    \n",
    "    if hemisphere == 'both':\n",
    "        lh_coors_file = f'{sid}/{volume_space_label}/{surface_mesh_label}/{sid}.L.{surface_type}{msm_alignment_method_label}.{surface_mesh_label_2}.surf.gii'\n",
    "        # print(lh_coors_file)\n",
    "        if not os.path.isfile(f'data/{directory}/{lh_coors_file}'):\n",
    "            HCP_S3.download(f'HCP_1200/{lh_coors_file}', local=f'data/{directory}', trim=2)\n",
    "        lh_coors = nib.load(f'data/{directory}/{lh_coors_file}').agg_data()[0]\n",
    "        \n",
    "        rh_coors_file = f'{sid}/{volume_space_label}/{surface_mesh_label}/{sid}.R.{surface_type}{msm_alignment_method_label}.{surface_mesh_label_2}.surf.gii'\n",
    "        # print(rh_coors_file)\n",
    "        if not os.path.isfile(f'data/{directory}/{rh_coors_file}'):\n",
    "            HCP_S3.download(f'HCP_1200/{rh_coors_file}', local=f'data/{directory}', trim=2)\n",
    "        rh_coors = nib.load(f'data/{directory}/{rh_coors_file}').agg_data()[0]\n",
    "        \n",
    "        \n",
    "        lh_atlas_file = f'{sid}/MNINonLinear/{surface_mesh_label}/{sid}.L.atlasroi.{surface_mesh_label_2}.shape.gii'\n",
    "        # print(lh_atlas_file)\n",
    "        if not os.path.isfile(f'data/{directory}/{lh_atlas_file}'):\n",
    "            HCP_S3.download(f'HCP_1200/{lh_atlas_file}', local=f'data/{directory}', trim=2)\n",
    "        lh_atlas = nib.load(f'data/{directory}/{lh_atlas_file}').agg_data().astype(bool)\n",
    "        \n",
    "        rh_atlas_file = f'{sid}/MNINonLinear/{surface_mesh_label}/{sid}.R.atlasroi.{surface_mesh_label_2}.shape.gii'\n",
    "        # print(rh_atlas_file)\n",
    "        if not os.path.isfile(f'data/{directory}/{rh_atlas_file}'):\n",
    "            HCP_S3.download(f'HCP_1200/{rh_atlas_file}', local=f'data/{directory}', trim=2)\n",
    "        rh_atlas = nib.load(f'data/{directory}/{rh_atlas_file}').agg_data().astype(bool)\n",
    "        \n",
    "        return np.r_[lh_coors[lh_atlas], rh_coors[rh_atlas]], ['L'] * lh_atlas.sum() + ['R'] * rh_atlas.sum()\n",
    "    \n",
    "    else:\n",
    "        hemisphere_label = {'left': 'L', 'right': 'R'}[hemisphere]\n",
    "        \n",
    "        h_coors_file = f'{sid}/{volume_space_label}/{surface_mesh_label}/{sid}.{hemisphere_label}.{surface_type}{msm_alignment_method_label}.{surface_mesh_label_2}.surf.gii'\n",
    "        # print(h_coors_file)\n",
    "        if not os.path.isfile(f'data/{directory}/{h_coors_file}'):\n",
    "            HCP_S3.download(f'HCP_1200/{h_coors_file}', local=f'data/{directory}', trim=2)\n",
    "        h_coors = nib.load(f'data/{directory}/{h_coors_file}').agg_data()[0]\n",
    "\n",
    "        h_atlas_file = f'{sid}/MNINonLinear/{surface_mesh_label}/{sid}.{hemisphere_label}.atlasroi.{surface_mesh_label_2}.shape.gii'\n",
    "        # print(h_atlas_file)\n",
    "        if not os.path.isfile(f'data/{directory}/{h_atlas_file}'):\n",
    "            HCP_S3.download(f'HCP_1200/{h_atlas_file}', local=f'data/{directory}', trim=2)\n",
    "        h_atlas = nib.load(f'data/{directory}/{h_atlas_file}').agg_data().astype(bool)\n",
    "        \n",
    "        return h_coors[h_atlas], [hemisphere_label] * h_atlas.sum()"
   ]
  },
  {
   "cell_type": "markdown",
   "id": "2fdd0b16-3917-487c-9643-3b28eac34e6c",
   "metadata": {},
   "source": [
    "> `len(lh_coors) + len(rh_coors) + sum(lh_atlas) + sum(rh_atlas) - len(df)`  \n",
    ">> $33114 = 32492 * 2 + 29696 + 29716 - 91282$"
   ]
  },
  {
   "cell_type": "markdown",
   "id": "c59b6fac-9281-4b1b-bb4f-f6e9dcc6f591",
   "metadata": {},
   "source": [
    "---"
   ]
  },
  {
   "cell_type": "code",
   "execution_count": 23,
   "id": "c0aae5f6-da04-49af-be1f-7f740a3881c3",
   "metadata": {},
   "outputs": [],
   "source": [
    "rectify = relu = lambda x, elbow=0.0, norm=1.0: (type(x) if type(x) is not np.ndarray else np.array)(np.c_[x, np.zeros_like(x)].max(axis=1)/norm)"
   ]
  },
  {
   "cell_type": "markdown",
   "id": "c0bc4ef3-0baf-4faa-923e-7112e9d4048d",
   "metadata": {},
   "source": [
    "---"
   ]
  },
  {
   "cell_type": "code",
   "execution_count": 24,
   "id": "e0e8e1a2-c56c-487e-b2be-d2ca43020303",
   "metadata": {},
   "outputs": [],
   "source": [
    "def group(df_, ang_mesh=ANG_MESH, ecc_mesh=ECC_MESH, aggr_func='mean'): # spatial_grid_spacing in mm\n",
    "    \"\"\" Groups, and aggregates dataframe in passed eccentricity and angular ranges using passed aggregation function, by parcel.\n",
    "\n",
    "    Parameters\n",
    "    ----------\n",
    "    df_ : pandas.DataFrame\n",
    "        The dataframe to be consolidated.\n",
    "    ang_mesh : numpy.ndarray, optional\n",
    "        The angular mesh to cut `df_['ang']` with, by default `ANG_MESH`.\n",
    "    ecc_mesh : numpy.ndarray, optional\n",
    "        The eccentricity mesh to cut `df_['ecc']` with, by default `ECC_MESH`.\n",
    "    aggr_func : function or str, optional\n",
    "        The aggregation function used to aggregate groups (vertices in mesh polygons), by default 'mean'.\n",
    "        \n",
    "    Returns\n",
    "    -------\n",
    "    pandas.DataFrame\n",
    "        Dataframe agregated in eccentricty and angular ranges, grouped by parcels.\n",
    "    \"\"\"\n",
    "    def wrapper(df_grp):\n",
    "        df_grp_ = df_grp.groupby([\n",
    "            pd.cut(df_grp['ecc'], ecc_mesh, labels=ecc_mesh[1:].round(1)),\n",
    "            pd.cut(df_grp['ang'], ang_mesh, labels=((ang_mesh[1:] + ang_mesh[:-1])/2).astype(int))\n",
    "        ])\n",
    "        if type(aggr_func) == str: # 'mean'\n",
    "            return getattr(df_grp_, aggr_func)(numeric_only=True)\n",
    "        elif callable(aggr_func): # lambda x: x.mean()\n",
    "            return df_grp_.apply(aggr_func) # lambda x: aggr_func(x[x.notnull()])\n",
    "    \n",
    "    return df_.groupby(label).apply(wrapper)"
   ]
  },
  {
   "cell_type": "code",
   "execution_count": 25,
   "id": "2d22368c-e147-4783-96a4-7b72ecba5abc",
   "metadata": {},
   "outputs": [],
   "source": [
    "def l2(df_, roi_, shift_len=None):\n",
    "    \"\"\" Computes distances between parcels.\n",
    "\n",
    "    Parameters\n",
    "    ----------\n",
    "    df_ : pandas.DataFrame, optional\n",
    "        DataFrame grouped by parcels and eccentricity/angles.\n",
    "    roi_ : array-like\n",
    "        Parcels in the passed dataframe.\n",
    "    shift_len : int or `None`, optional\n",
    "        The number of groups available for each parcel, by default `None`.\n",
    "        Is calculated automatically (`len(df_.loc['V1'])`) if `None`.\n",
    "        \n",
    "    Returns\n",
    "    -------\n",
    "    pandas.DataFrame\n",
    "        Dataframe with canonical directional distances ['dx', 'dy', 'dz'] and L2 distance between vertices (voxels) ['d'].\n",
    "    \"\"\"\n",
    "    shift_len = shift_len if shift_len is not None else len(df_.loc['V1'])\n",
    "    diff = lambda x: (x - x.shift(-shift_len)).add_prefix('d')\n",
    "    \n",
    "    df_d = diff(df_) # [['dx', 'dy', 'dz']]\n",
    "        \n",
    "    df_d['d'] = np.sqrt(np.sum(df_d.pow(2), axis=1))\n",
    "    # Improv.: https://stats.stackexchange.com/questions/7440/kl-divergence-between-two-univariate-gaussians\n",
    "    \n",
    "    df_d['d'][df_d.isna().any(axis=1)] = np.nan\n",
    "    \n",
    "    df_d = df_d.iloc[:-shift_len]\n",
    "    df_d.index = df_d.index.set_levels([f'{i} - {j}' for i, j in zip(roi_[:-1], roi_[1:])], level=0)\n",
    "    \n",
    "    return df_d # [['dx', 'dy', 'dz'] + ['d']]"
   ]
  },
  {
   "cell_type": "markdown",
   "id": "8b991dec-d957-4305-bcd5-dd22adf09d55",
   "metadata": {},
   "source": [
    "---"
   ]
  },
  {
   "cell_type": "code",
   "execution_count": 26,
   "id": "02fce34e-4ec5-4cf4-8185-b2fe42fa3619",
   "metadata": {},
   "outputs": [],
   "source": [
    "def display_side_by_side(*args, titles=cycle([''])):\n",
    "    \"\"\" Display Dataframes side by side \"\"\"\n",
    "    display_html(''.join([fr\"\"\"\n",
    "            <th style=\"text-align:center\">\n",
    "                <td style=\"vertical-align:top\">\n",
    "                    <h2 style=\"text-align: center;\">{title}</h2>\n",
    "                    {df_.to_html().replace('table', 'table style=\"display:inline\"')}\n",
    "                </td>\n",
    "            </th>\n",
    "        \"\"\" for df_, title in zip(args, chain(titles, cycle(['</br>'])))]), raw=True)"
   ]
  },
  {
   "cell_type": "markdown",
   "id": "c3c34ab5-5129-40df-892b-aa33e0bcf4de",
   "metadata": {
    "jp-MarkdownHeadingCollapsed": true,
    "tags": []
   },
   "source": [
    "# Load Data"
   ]
  },
  {
   "cell_type": "code",
   "execution_count": 27,
   "id": "840bfba6-c6ae-40b2-9a5e-3dc78dcf4fbb",
   "metadata": {},
   "outputs": [],
   "source": [
    "data = mat73.loadmat('data/osfstorage-archive/prfresults.mat')"
   ]
  },
  {
   "cell_type": "code",
   "execution_count": 28,
   "id": "102be02f-853e-4e3e-bdda-dc363bf1053e",
   "metadata": {},
   "outputs": [
    {
     "data": {
      "text/plain": [
       "dict_keys(['allresults', 'ciftifsaveragebad', 'ciftifsaverageix', 'groupsubjectids', 'quants', 'subjectids'])"
      ]
     },
     "execution_count": 28,
     "metadata": {},
     "output_type": "execute_result"
    }
   ],
   "source": [
    "data.keys()"
   ]
  },
  {
   "cell_type": "markdown",
   "id": "577fa95b-27cd-4fdb-8604-5f7c6856d61c",
   "metadata": {},
   "source": [
    "- `allresults` - is 91282 grayordinates x 6 quantities x 184 datasets x 3 model fits with the full set of pRF analysis results.  \n",
    "- `quants` - is a 1 x 6 cell vector with a label for the 6 quantities: {'ang' 'ecc' 'gain' 'meanvol' 'R2' 'rfsize'}.  \n",
    "- `subjectids` - is 184 x 1 with the 6-digit ID for each subject (both individual and group-average subjects).  \n",
    "- `ciftifsaverageix` - is 327684 x 1 with indices into the 91282 CIFTI space. This indexing vector performs a nearest-neighbor mapping from CIFTI to FreeSurfer's fsaverage space. Note that some of the fsaverage vertices do not have a counterpart in the CIFTI space; these vertices are assigned a value of 1 in 'ciftifsaverageix'.  \n",
    "- `ciftifsaveragebad` - is 327684 x 1 with logical values indicating which fsaverage vertices do not have a counterpart in the CIFTI space. These vertices should receive a NaN after performing the indexing-based mapping.  \n",
    "- `groupsubjectids` - is a 1 x 3 cell vector indicating which subjects contributed to the special 999997, 999998, and 999999 group-average subjects, respectively. Each element is a vector of indices (in the range 1-181) in sorted order."
   ]
  },
  {
   "cell_type": "code",
   "execution_count": 29,
   "id": "0a6cb023-285a-4faa-84c8-c2706c636d1d",
   "metadata": {},
   "outputs": [
    {
     "data": {
      "text/plain": [
       "(91282, 6, 184, 3)"
      ]
     },
     "execution_count": 29,
     "metadata": {},
     "output_type": "execute_result"
    }
   ],
   "source": [
    "data[\"allresults\"].shape"
   ]
  },
  {
   "cell_type": "markdown",
   "id": "56e3b927-2b1f-4e6a-a035-e2a81692f737",
   "metadata": {},
   "source": [
    "91282 grayordinates x 6 quantities x 184 datasets x 3 model fits"
   ]
  },
  {
   "cell_type": "code",
   "execution_count": 30,
   "id": "d073c748-40f9-44da-a218-2738bf87126b",
   "metadata": {},
   "outputs": [
    {
     "data": {
      "text/plain": [
       "['ang', 'ecc', 'gain', 'meanvol', 'R2', 'rfsize']"
      ]
     },
     "execution_count": 30,
     "metadata": {},
     "output_type": "execute_result"
    }
   ],
   "source": [
    "data[\"quants\"]"
   ]
  },
  {
   "cell_type": "markdown",
   "id": "7386e41d-0953-44ac-8140-751b6ce63548",
   "metadata": {},
   "source": [
    "- `ang` is the angle of the estimated pRF location. Specifically, it is the angle that the center of the pRF has with respect to the positive x-axis. The range of values is 0-360 and the units are degrees. Note that when the estimated pRF is exactly at the center of gaze (i.e., eccentricity is exactly 0), then angle is ill-defined. Thus, we have explicitly set the angle to NaN for any case in which eccentricity is 0.  \n",
    "- `ecc` is the eccentricity of the estimated pRF location. Specifically, it is the distance from the center of gaze to the center of the pRF. Values are greater than or equal to 0 and the units are degrees of visual angle.  \n",
    "- `gain` is the BOLD response amplitude estimated in the model fit. The units are raw scanner units (same units as the time-series data in the CIFTI files). The value can be interpreted as the amplitude of the BOLD response that is predicted to result from 1 s of full-field visual stimulation.  \n",
    "- `meanvol` is the mean signal intensity observed in the time-series data. The units are raw scanner units (same units as the time-series data in the CIFTI files). Note that some grayordinates have a mean signal intensity that are zero or negative, so be careful (e.g., if converting to percent BOLD signal change).  \n",
    "- `R2` is the amount of variance (R-squared) in the time-series data explained by the pRF model. The values generally range from 0-100 and the units are percentages. Note that R-squared values are computed after projecting out low-order polynomials from both the time-series data and the model fit. Because of this step, R-squared values can sometimes drop below 0%.  \n",
    "- `rfsize` is the size of the estimated pRF. Specifically, it is one standard deviation of a 2D Gaussian that describes the behavior of the grayordinate (see paper for details). Values are positive and the units are degrees of visual angle."
   ]
  },
  {
   "cell_type": "code",
   "execution_count": 31,
   "id": "6b338bfe-5a0d-468a-9777-674fa808870c",
   "metadata": {},
   "outputs": [],
   "source": [
    "# Load standard atlases\n",
    "atlases = mat73.loadmat('data/osfstorage-archive/atlas.mat')"
   ]
  },
  {
   "cell_type": "code",
   "execution_count": 32,
   "id": "25cb6740-0c59-41d6-8f36-b9daecc9b3b5",
   "metadata": {},
   "outputs": [
    {
     "name": "stdout",
     "output_type": "stream",
     "text": [
      "['Unknown', 'V1v', 'V1d', 'V2v', 'V2d', 'V3v', 'V3d', 'hV4', 'VO1', 'VO2', 'PHC1', 'PHC2', 'TO2', 'TO1', 'LO2', 'LO1', 'V3B', 'V3A', 'IPS0', 'IPS1', 'IPS2', 'IPS3', 'IPS4', 'IPS5', 'SPL1', 'FEF']\n"
     ]
    }
   ],
   "source": [
    "print(atlases['wang2015labels'])"
   ]
  },
  {
   "cell_type": "code",
   "execution_count": 33,
   "id": "50658d28-43dd-4089-83f1-a7000a491e66",
   "metadata": {},
   "outputs": [],
   "source": [
    "label ='parcellation_label'"
   ]
  },
  {
   "cell_type": "markdown",
   "id": "b339628f-5d07-4c06-86e6-bf3fcdc84d41",
   "metadata": {},
   "source": [
    "### Subjects \\<ALL\\>"
   ]
  },
  {
   "cell_type": "code",
   "execution_count": 63,
   "id": "898c5927-7326-4245-a045-01ff801aec31",
   "metadata": {},
   "outputs": [],
   "source": [
    "subjects = set(data['subjectids'].astype(int)) - {999997, 999998, 999999}"
   ]
  },
  {
   "cell_type": "code",
   "execution_count": 76,
   "id": "2b401ec1-01d7-4777-b2bf-7922a19965d0",
   "metadata": {},
   "outputs": [],
   "source": [
    "df = pd.DataFrame(np.vstack(np.moveaxis(data['allresults'][:, :, [s in subjects for s in data['subjectids']], 0], -1, 0)), columns=data['quants'])\n",
    "df['sid'] = np.repeat(list(subjects), (n_vertices:=data['allresults'].shape[0]))"
   ]
  },
  {
   "cell_type": "code",
   "execution_count": 77,
   "id": "3071488c-f517-473b-b551-239de607270b",
   "metadata": {},
   "outputs": [],
   "source": [
    "df[label] = np.tile(np.array(atlases['wang2015labels'])[atlases['wang2015'].astype(int)], (n_subjects:=len(subjects)))"
   ]
  },
  {
   "cell_type": "code",
   "execution_count": 78,
   "id": "4ebd1834-33cf-4ac9-9d02-0710756f8dff",
   "metadata": {},
   "outputs": [
    {
     "name": "stderr",
     "output_type": "stream",
     "text": [
      "> 198653: 100%|███████████████████████████████████████████████████████████████| 181/181 [00:11<00:00, 15.47it/s]\n"
     ]
    }
   ],
   "source": [
    "df[['x', 'y', 'z']] = np.nan\n",
    "df['hemisphere'] = None\n",
    "for sid in (pbar:=tqdm(subjects)):\n",
    "    coors, hemisphere = get_coors(sid)\n",
    "    df.loc[df['sid'] == sid, ['x', 'y', 'z']].iloc[:len(coors)] = coors\n",
    "    df.loc[df['sid'] == sid].iloc[:len(coors)]['hemisphere'] = hemisphere\n",
    "    pbar.set_description(f'> {sid}')"
   ]
  },
  {
   "cell_type": "markdown",
   "id": "6f822be4-a768-4e3a-baef-247fdf0ddaf6",
   "metadata": {
    "jp-MarkdownHeadingCollapsed": true,
    "tags": []
   },
   "source": [
    "### Subject 100610"
   ]
  },
  {
   "cell_type": "raw",
   "id": "991b6dab-eb53-49d3-9f81-5a9cab93299b",
   "metadata": {},
   "source": [
    "# Taking the results corresponding to the pRF model fit based on all data of subject 100610 #999999\n",
    "df = pd.DataFrame(data[\"allresults\"][:, :, np.argwhere(data['subjectids'] == 100610).squeeze(), 0], columns=data['quants'])"
   ]
  },
  {
   "cell_type": "raw",
   "id": "02ef3afb-a2c4-40dd-9a26-cef8f0771ee3",
   "metadata": {},
   "source": [
    "df[label] = np.array(atlases['wang2015labels'])[atlases['wang2015'].astype(int)]"
   ]
  },
  {
   "cell_type": "raw",
   "id": "a3adabfe-4d9a-440b-add3-a578abe35b12",
   "metadata": {},
   "source": [
    "df.head()"
   ]
  },
  {
   "cell_type": "markdown",
   "id": "d44dde1a-8fbc-4d1a-b8f6-73105326de1a",
   "metadata": {},
   "source": [
    "---"
   ]
  },
  {
   "cell_type": "markdown",
   "id": "542c883c-c506-4d10-9afa-ed7f3da4b6f3",
   "metadata": {},
   "source": [
    "`Neuropythy subject object`"
   ]
  },
  {
   "cell_type": "raw",
   "id": "337828e6-693d-4b4f-a360-9d4f97b13d7c",
   "metadata": {},
   "source": [
    "# s100610 = ny.hcp_subject(100610)"
   ]
  },
  {
   "cell_type": "raw",
   "id": "775c4a8e-a5ac-4bcb-918d-0e92944352f4",
   "metadata": {},
   "source": [
    "## Download HCP data for subject 100610\n",
    "# ny.hcp.download(100610)"
   ]
  },
  {
   "cell_type": "markdown",
   "id": "0b45722e-641b-4f83-86e3-af485cea6d64",
   "metadata": {},
   "source": [
    "---"
   ]
  },
  {
   "cell_type": "raw",
   "id": "9a0cb338-5f81-4c87-8bb1-c116865a5b15",
   "metadata": {},
   "source": [
    "coors, hemisphere = get_coors(directory='.temp')"
   ]
  },
  {
   "cell_type": "raw",
   "id": "ceb6b67a-46f2-4cb4-8fc3-0b99dd931246",
   "metadata": {},
   "source": [
    "df[['x', 'y', 'z']] = np.nan\n",
    "df['hemisphere'] = None\n",
    "df.loc[:len(coors)-1, ['x', 'y', 'z']] = coors\n",
    "df.loc[:len(coors)-1, ['hemisphere']] = hemisphere"
   ]
  },
  {
   "cell_type": "code",
   "execution_count": 79,
   "id": "4d705f31-4916-43a7-819b-575acd08dc9e",
   "metadata": {},
   "outputs": [],
   "source": [
    "df_100610 = df.loc[df['sid'] == 100610]"
   ]
  },
  {
   "cell_type": "markdown",
   "id": "6e1e317d-8ce6-4845-872e-38fb98a8cced",
   "metadata": {
    "tags": []
   },
   "source": [
    "---\n",
    "# Main"
   ]
  },
  {
   "cell_type": "markdown",
   "id": "29821cc6-4850-4f76-83d5-33e83f94d09f",
   "metadata": {
    "tags": []
   },
   "source": [
    "## Data Setup"
   ]
  },
  {
   "cell_type": "code",
   "execution_count": null,
   "id": "206cb484-a647-4f0b-97fc-fae02ed0ca52",
   "metadata": {},
   "outputs": [],
   "source": [
    "roi_1 = ['V1d', 'V1v', 'V2d', 'V2v']\n",
    "roi_2 = ['V1', 'V2']"
   ]
  },
  {
   "cell_type": "code",
   "execution_count": null,
   "id": "b767d31a-01e7-4a20-9a1b-ddc6418424aa",
   "metadata": {},
   "outputs": [],
   "source": [
    "roi_colors_1 = dict(zip(roi_1, sns.color_palette(n_colors=len(roi_1))))\n",
    "roi_colors_2 = dict(zip(roi_2, sns.color_palette(n_colors=len(roi_2))))\n",
    "\n",
    "# roi_markers_1 = dict(zip(roi_1, ['*', 'X', 'o', None][:len(roi_1)]))\n",
    "# roi_markers_2 = dict(zip(roi_2, ['*', 'X', 'o', None][:len(roi_2)])) \n",
    "# ('o', 'v', '^', '<', '>', '8', 's', 'p', '*', 'h', 'H', 'D', 'd', 'P', 'X')\n",
    "# ('*', '+', '-', '.', '/', 'O', 'X', '\\', 'o', 'x', '|')"
   ]
  },
  {
   "cell_type": "code",
   "execution_count": null,
   "id": "721b2396-a0b4-4bb3-98bb-e169975c2f8e",
   "metadata": {},
   "outputs": [],
   "source": [
    "dfv_100610_1 = df_100610[df[label].isin(roi_1)]\n",
    "dfv_100610_1 = dfv_1.sort_values(by=label, key=lambda col: col.str.lower())"
   ]
  },
  {
   "cell_type": "code",
   "execution_count": null,
   "id": "4726d0e2-64c1-4993-8c6b-98bfee7dd4a1",
   "metadata": {},
   "outputs": [],
   "source": [
    "dfv_100610_1.head()"
   ]
  },
  {
   "cell_type": "code",
   "execution_count": null,
   "id": "bab1fc21-dc4e-48b8-9b63-a82a79e0f164",
   "metadata": {},
   "outputs": [],
   "source": [
    "dfv_100610_2 = df_100610[df_100610[label].str.contains('|'.join(roi_2))]\n",
    "dfv_100610_2 = dfv_100610_2.sort_values(by=label, key=lambda col: col.str.lower())\n",
    "dfv_100610_2.loc[:, label] = dfv_100610_2.loc[:, label].str.replace(r'(V\\d)\\w', lambda s: s.group(1), regex=True)"
   ]
  },
  {
   "cell_type": "code",
   "execution_count": null,
   "id": "d5a6f9fe-9f0e-4f50-8714-35fae2016af8",
   "metadata": {},
   "outputs": [],
   "source": [
    "dfv_100610_2.head()"
   ]
  },
  {
   "cell_type": "code",
   "execution_count": null,
   "id": "01aa06df-2a7f-4d97-9f1f-7abe677f8e13",
   "metadata": {},
   "outputs": [],
   "source": [
    "def filter_labels(df_, roi=roi, merge_dorsal_ventral=False):\n",
    "    \"\"\"\n",
    "    \"\"\"\n",
    "    df__ = df_[df_[label].str.contains('|'.join(roi))]\n",
    "    df__ = df__.sort_values(by=label, key=lambda col: col.str.lower())\n",
    "    if merge_dorsal_ventral:\n",
    "        dfv__.loc[:, label].str.replace(r'(V\\d)\\w', lambda s: s.group(1), regex=True)\n",
    "    return df__"
   ]
  },
  {
   "cell_type": "markdown",
   "id": "d6025367-b96c-47a6-ae00-1c1fa8cdbf41",
   "metadata": {},
   "source": [
    "---"
   ]
  },
  {
   "cell_type": "code",
   "execution_count": null,
   "id": "c14d33c8-2d7f-4e3d-b056-303a13a1d45a",
   "metadata": {},
   "outputs": [],
   "source": [
    "CASE = 2\n",
    "# 2 - No subdivisions into dorsal and ventral sections, just 'V1' and 'V2'"
   ]
  },
  {
   "cell_type": "code",
   "execution_count": null,
   "id": "3259aadb-7839-41cb-a459-5b276e189597",
   "metadata": {},
   "outputs": [],
   "source": [
    "if CASE == 1:\n",
    "    dfv_100610_ = dfv_1\n",
    "elif CASE == 2:\n",
    "    dfv = dfv_2\n",
    "    roi = roi_2\n",
    "    roi_colors = roi_colors_2\n",
    "    # roi_markers = roi_markers_2"
   ]
  },
  {
   "cell_type": "code",
   "execution_count": null,
   "id": "bea5d14c-5d3a-422c-8f80-c917981e8696",
   "metadata": {},
   "outputs": [],
   "source": [
    "if CASE == 1:\n",
    "    dfv_100610 = dfv_1\n",
    "    roi = roi_1\n",
    "    roi_colors = roi_colors_1\n",
    "    # roi_markers = roi_markers_1\n",
    "elif CASE == 2:\n",
    "    dfv = dfv_2\n",
    "    roi = roi_2\n",
    "    roi_colors = roi_colors_2\n",
    "    # roi_markers = roi_markers_2"
   ]
  },
  {
   "cell_type": "code",
   "execution_count": null,
   "id": "e5a84864-00d6-4a6a-a9ad-9b00c80055e9",
   "metadata": {},
   "outputs": [],
   "source": [
    "if CASE == 1:\n",
    "    dfv_100610 = dfv_1\n",
    "    roi = roi_1\n",
    "    roi_colors = roi_colors_1\n",
    "    # roi_markers = roi_markers_1\n",
    "elif CASE == 2:\n",
    "    dfv = dfv_2\n",
    "    roi = roi_2\n",
    "    roi_colors = roi_colors_2\n",
    "    # roi_markers = roi_markers_2"
   ]
  },
  {
   "cell_type": "markdown",
   "id": "4f0ec182-6cc0-41b0-8980-a3adbcd12bf2",
   "metadata": {},
   "source": [
    "---"
   ]
  },
  {
   "cell_type": "code",
   "execution_count": null,
   "id": "e58831e9-d004-477e-b084-46ae3864d44e",
   "metadata": {},
   "outputs": [],
   "source": [
    "dfv_r = dfv[dfv['hemisphere'] == 'R']\n",
    "dfv_l = dfv[dfv['hemisphere'] == 'L']"
   ]
  },
  {
   "cell_type": "markdown",
   "id": "570daaeb-1e6b-4abd-9ec4-622dadde8239",
   "metadata": {
    "jp-MarkdownHeadingCollapsed": true,
    "tags": []
   },
   "source": [
    "## Basic Visualisation"
   ]
  },
  {
   "cell_type": "code",
   "execution_count": null,
   "id": "6fa5f82f-5853-4fde-88b3-a62174f26720",
   "metadata": {},
   "outputs": [],
   "source": [
    "%matplotlib inline\n",
    "fig, axs = plt.subplots(len(roi), 2, figsize=(18, 2*len(roi)), sharex=True, sharey=True)\n",
    "\n",
    "for i, label_i in enumerate(roi):\n",
    "    for j, hemisphere in enumerate(['L', 'R']):\n",
    "        for coordinate_axis in ['x', 'y', 'z']:\n",
    "            axs[i][j].hist(dfv[(dfv[label].str.contains(label_i)) & (dfv['hemisphere'] == hemisphere)][coordinate_axis],\n",
    "                       bins=20, edgecolor='black', alpha=0.6,\n",
    "                       label=f'{f\"{coordinate_axis.upper()} Coordinate in Talairach Space\" if i == j == 0 else \"\"}'\n",
    "            )\n",
    "            axs[i][j].set_title(f'{label_i} | {hemisphere}')\n",
    "\n",
    "axs[0][0].set_xlim([None, 112])\n",
    "\n",
    "fig.supxlabel('Greyordinate Coordinate')\n",
    "fig.suptitle('Histogram of Greyordinate Coordinates of V1 Vertices')\n",
    "fig.legend()\n",
    "\n",
    "plt.tight_layout()"
   ]
  },
  {
   "cell_type": "markdown",
   "id": "4f36affb-6526-4126-a434-2de3f2355ad7",
   "metadata": {},
   "source": [
    "---"
   ]
  },
  {
   "cell_type": "code",
   "execution_count": null,
   "id": "9ef11cd9-769a-432f-92f3-265d0cd46023",
   "metadata": {},
   "outputs": [],
   "source": [
    "metric = 'ecc'\n",
    "metric_limit = 3"
   ]
  },
  {
   "cell_type": "code",
   "execution_count": null,
   "id": "5f57f10b-00cb-417b-a8ec-8ebe1ecdc2d9",
   "metadata": {},
   "outputs": [],
   "source": [
    "%matplotlib inline\n",
    "fig, axs = plt.subplots(1, 2, figsize=(12, 6), subplot_kw={'projection': '3d'})\n",
    "\n",
    "axs[0].scatter(*dfv[['x', 'y', 'z']].T.to_numpy(), s=10, c=[roi_colors[pl] for pl in dfv[label]])\n",
    "axs[0].legend(handles=[mpatches.Patch(color=roi_color, label=roi_label) for roi_label, roi_color in roi_colors.items()])\n",
    "\n",
    "for roi_label in roi:\n",
    "    axs[1].scatter(*dfv[dfv[label] == roi_label][['x', 'y', 'z']].T.to_numpy(),\n",
    "               s=10, #marker=roi_markers_[roi_label],\n",
    "               c=[np.array(roi_colors[roi_label]) * relu(1 - met/metric_limit) for met in dfv[dfv[label] == roi_label][metric]]\n",
    "    )\n",
    "axs[1].legend(handles=[mpatches.Patch(color=roi_color, label=roi_label) for roi_label, roi_color in roi_colors.items()])\n",
    "axs[1].set_title(fr'Color Gradient $\\propto 1 - \\frac{{{metric}}}{{{metric_limit}}}$, with ${metric} > {metric_limit}$ blackened')\n",
    "\n",
    "fig.suptitle('Locations of Verticies (Voxels)')\n",
    "plt.tight_layout()"
   ]
  },
  {
   "cell_type": "markdown",
   "id": "1aad2e12-5138-41e0-a1b8-6515424cfa72",
   "metadata": {},
   "source": [
    "---"
   ]
  },
  {
   "cell_type": "code",
   "execution_count": null,
   "id": "6a4b5aeb-860e-42b4-985f-9b1751058dca",
   "metadata": {},
   "outputs": [],
   "source": [
    "dfv_ = dfv.groupby(['hemisphere',\n",
    "                    pd.cut(dfv['ecc'], ECC_MESH, labels=ECC_MESH[1:].round(1))\n",
    "                   ]).count()\n",
    "\n",
    "plt.figure(figsize=(20, 2))\n",
    "sns.heatmap([dfv_[label].loc[s] for s in ('L', 'R')], annot=True, fmt='g')\n",
    "plt.yticks((0, 1), ('L', 'R'))\n",
    "plt.xticks(list(range(len(ECC_MESH)))[::1], ECC_MESH.round(1)[::1])\n",
    "\n",
    "plt.title('Counts of Vertices in Eccentricity Bins of the Provided Mesh')\n",
    "plt.tight_layout()"
   ]
  },
  {
   "cell_type": "code",
   "execution_count": null,
   "id": "be1875e3-f4ea-4e97-88b8-bbf2544f1812",
   "metadata": {},
   "outputs": [],
   "source": [
    "dfv_ = dfv.groupby(['hemisphere',\n",
    "                    pd.cut(dfv['ang'], ANG_MESH, labels=((ANG_MESH[1:] + ANG_MESH[:-1])/2).astype(int))\n",
    "                   ]).count()\n",
    "\n",
    "plt.figure(figsize=(20, 2))\n",
    "sns.heatmap([dfv_[label].loc[s] for s in ('L', 'R')])\n",
    "plt.yticks((0, 1), ('L', 'R'))\n",
    "plt.xticks(list(range(len(ANG_MESH)))[::3], ANG_MESH.astype(int)[::3])\n",
    "\n",
    "plt.title('Counts of Vertices in Angular Bins of the Provided Mesh')\n",
    "plt.tight_layout()"
   ]
  },
  {
   "cell_type": "code",
   "execution_count": null,
   "id": "0bd18c9a-ac18-49c0-b262-b7f16aef88fe",
   "metadata": {
    "tags": []
   },
   "outputs": [],
   "source": [
    "fig, axs = plt.subplots(1, 2, figsize=(12, 6), subplot_kw={'projection': 'polar'})\n",
    "\n",
    "axs[0].scatter(dfv_l['ang'], np.log(1 + dfv_l['ecc']), s=5, c=[roi_colors[l] for l in dfv_l[label]], alpha=0.6)\n",
    "axs[0].legend(handles=[mpatches.Patch(color=roi_color, label=roi_label) for roi_label, roi_color in roi_colors.items()])\n",
    "axs[0].set_rgrids(np.log(1 + ECC_MESH), ECC_MESH.round(1), color='b', fontsize=6)\n",
    "axs[0].set_title('L')\n",
    "\n",
    "axs[1].scatter(dfv_r['ang'], np.log(1 + dfv_r['ecc']), s=5, c=[roi_colors[l] for l in dfv_r[label]], alpha=0.6)\n",
    "axs[1].legend(handles=[mpatches.Patch(color=roi_color, label=roi_label) for roi_label, roi_color in roi_colors.items()])\n",
    "axs[1].set_rgrids(np.log(1 + ECC_MESH), ECC_MESH.round(1), color='b', fontsize=6)\n",
    "axs[1].set_title('R')\n",
    "\n",
    "# ax.set_thetagrids(ANG_MESH[:-1], [fr'${ANG_MESH[i]}^{{\\circ}}$' if i%3 == 0 else None for i in range(len(ANG_MESH[:-1]))])\n",
    "# ax.set_thetagrids([0])\n",
    "\n",
    "fig.suptitle('RF Locations in Log Scale')\n",
    "plt.tight_layout()"
   ]
  },
  {
   "cell_type": "code",
   "execution_count": null,
   "id": "1778acdf-286a-411b-aef9-c3cbfa7a07e9",
   "metadata": {
    "tags": []
   },
   "outputs": [],
   "source": [
    "plt.scatter(*TSNE(n_components=2, init='pca', learning_rate='auto', perplexity=10).fit_transform(dfv[['x', 'y', 'z', 'ecc', 'ang']]).T, # , 'rfsize'\n",
    "            c=np.array([roi_colors[pl] for pl in dfv[label]]) * relu(1 - dfv['ecc']/3)[:, None]);"
   ]
  },
  {
   "cell_type": "markdown",
   "id": "e94b0f3f-426f-48e0-ae5c-566afb9328c4",
   "metadata": {
    "tags": []
   },
   "source": [
    "## Analysis"
   ]
  },
  {
   "cell_type": "code",
   "execution_count": null,
   "id": "71417750-1e96-4533-8e72-956d6ecf1298",
   "metadata": {},
   "outputs": [],
   "source": [
    "dfv_l_p  = group(dfv_l)[['x', 'y', 'z']]\n",
    "dfv_l_d  = l2(dfv_l_p, roi)\n",
    "dfv_l_d_ = dfv_l_d.reset_index().pivot(columns='ang', index='ecc', values='d')"
   ]
  },
  {
   "cell_type": "code",
   "execution_count": null,
   "id": "afbcb312-ff8e-41ef-bf21-cb040d555441",
   "metadata": {},
   "outputs": [],
   "source": [
    "dfv_r_p  = group(dfv_r)[['x', 'y', 'z']]\n",
    "dfv_r_d  = l2(dfv_r_p, roi)\n",
    "dfv_r_d_ = dfv_r_d.reset_index().pivot(columns='ang', index='ecc', values='d')"
   ]
  },
  {
   "cell_type": "raw",
   "id": "0c142f58-89b6-4d53-961a-a05a0a770ffa",
   "metadata": {
    "tags": []
   },
   "source": [
    "display_side_by_side(\n",
    "    dfv_l_p.loc['V1'][dfv_l_p.loc['V1', 'x'].notna()],\n",
    "    dfv_l_p.loc['V2'][dfv_l_p.loc['V2', 'x'].notna()],\n",
    "    titles=['V1', 'V2']\n",
    ")\n",
    "\n",
    "# with pd.option_context('display.max_rows', None, 'display.max_columns', None):  # more options can be specified also\n",
    "#     display(pd.concat([\n",
    "#         dfv_l_p_.add_suffix('_L'),\n",
    "#         dfv_r_p_.add_suffix('_R'),\n",
    "#     ], axis=1))"
   ]
  },
  {
   "cell_type": "code",
   "execution_count": null,
   "id": "e6a0ac6b-0ff8-4b99-9ec4-7919cc88130a",
   "metadata": {},
   "outputs": [],
   "source": [
    "fig, axs = plt.subplots(1, 2, figsize=(12, 6), subplot_kw={'projection': 'polar'})\n",
    "\n",
    "# sns.heatmap(dfv_l_d, cmap=sns.cm.rocket_r, ax=axs[0])\n",
    "pplot_1 = axs[0].pcolormesh(ANG_MESH, np.log(1 + ECC_MESH), dfv_l_d_.to_numpy(), cmap=sns.cm.rocket_r) \n",
    "# axs[0].set_thetagrids(ANG_MESH[:-1], [fr'${ANG_MESH[i]}^{{\\circ}}$' if i%3 == 0 else None for i in range(len(ANG_MESH[:-1]))])\n",
    "axs[0].set_thetagrids([0])\n",
    "axs[0].set_rgrids(np.log(1 + ECC_MESH), ECC_MESH.round(1), color='b', fontsize=6)\n",
    "axs[0].grid()\n",
    "axs[0].set_title('L')\n",
    "# fig.colorbar(pplot_1, ax=axs[0])\n",
    "\n",
    "# sns.heatmap(dfv_l_d, cmap=sns.cm.rocket_r, ax=axs[1])\n",
    "pplot_2 = axs[1].pcolormesh(ANG_MESH, np.log(1 + ECC_MESH), dfv_r_d_.to_numpy(), cmap=sns.cm.rocket_r) \n",
    "# axs[1].set_thetagrids(ANG_MESH[:-1], [fr'${ANG_MESH[i]}^{{\\circ}}$' if i%3 == 0 else None for i in range(len(ANG_MESH[:-1]))])\n",
    "axs[1].set_thetagrids([0])\n",
    "axs[1].set_rgrids(np.log(1 + ECC_MESH), ECC_MESH.round(1), color='b', fontsize=6)\n",
    "axs[1].grid()\n",
    "axs[1].set_title('R')\n",
    "# fig.colorbar(pplot_2, ax=axs[1])\n",
    "\n",
    "fig.colorbar(pplot_2, cax=fig.add_axes([1, 0, 0.05, 0.95]))\n",
    "\n",
    "fig.suptitle('Vertex (Voxel) Distance Heatmaps in Log Scale')\n",
    "plt.tight_layout()"
   ]
  },
  {
   "cell_type": "markdown",
   "id": "36eb1b02-0852-43d6-b4b7-6b094270cb67",
   "metadata": {},
   "source": [
    "---"
   ]
  },
  {
   "cell_type": "raw",
   "id": "aa91bfd4-545b-42a6-a786-ccd039038468",
   "metadata": {},
   "source": [
    "fig, ax = plt.subplots(figsize=(8, 4))\n",
    "sns.lineplot(dfv_d.loc['V1 - V2'], x=(mesh[:-1] + mesh[1:])/2, y='d', ax=ax)\n",
    "ax.set_xlabel(metric)\n",
    "ax.set_title(f'The distances between mean {\"-\".join(roi_)} vertices in given ranges of {metric}')\n",
    "plt.tight_layout()"
   ]
  },
  {
   "cell_type": "markdown",
   "id": "a761327c-4f5c-469a-8ee9-b5a93daf6425",
   "metadata": {},
   "source": [
    "---"
   ]
  },
  {
   "cell_type": "code",
   "execution_count": null,
   "id": "9c48256d-e62c-4c8d-9508-2dbfc8a9766a",
   "metadata": {},
   "outputs": [],
   "source": [
    "# TODO:\n",
    "## Aggregate on ang and plot on ecc"
   ]
  },
  {
   "cell_type": "markdown",
   "id": "0779adea-6710-4def-b774-7317b0d82766",
   "metadata": {},
   "source": [
    "---"
   ]
  },
  {
   "cell_type": "code",
   "execution_count": null,
   "id": "5da52772-cdc1-46f5-a5d5-87810ae61002",
   "metadata": {},
   "outputs": [],
   "source": [
    "# TODO:\n",
    "## Distance calculations based on nearest centroid classification"
   ]
  },
  {
   "cell_type": "code",
   "execution_count": null,
   "id": "8dbb2f28-0cba-4117-be16-eee2e68fb7d0",
   "metadata": {
    "tags": []
   },
   "outputs": [],
   "source": [
    "dfv1 = dfv[dfv[label].str.contains('V1')]\n",
    "dfv2 = dfv[dfv[label].str.contains('V2')]"
   ]
  },
  {
   "cell_type": "code",
   "execution_count": null,
   "id": "0ca070fb-6b34-4c65-8c51-bf6ac7772650",
   "metadata": {
    "tags": []
   },
   "outputs": [],
   "source": [
    "v1 = dfv1[['x', 'y', 'z']].to_numpy()\n",
    "v2 = dfv2[['x', 'y', 'z']].to_numpy()"
   ]
  },
  {
   "cell_type": "code",
   "execution_count": null,
   "id": "790b111d-91e4-44a2-b7d6-ef467b670efd",
   "metadata": {},
   "outputs": [],
   "source": []
  }
 ],
 "metadata": {
  "kernelspec": {
   "display_name": "Python 3 (ipykernel)",
   "language": "python",
   "name": "python3"
  },
  "language_info": {
   "codemirror_mode": {
    "name": "ipython",
    "version": 3
   },
   "file_extension": ".py",
   "mimetype": "text/x-python",
   "name": "python",
   "nbconvert_exporter": "python",
   "pygments_lexer": "ipython3",
   "version": "3.9.12"
  },
  "vscode": {
   "interpreter": {
    "hash": "960fd6541bd8c8e1f76e33587325940cd82de067a2c4c0c93ecfeb002d03d682"
   }
  }
 },
 "nbformat": 4,
 "nbformat_minor": 5
}
