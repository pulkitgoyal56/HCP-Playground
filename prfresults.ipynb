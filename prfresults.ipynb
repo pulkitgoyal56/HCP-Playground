{
 "cells": [
  {
   "cell_type": "markdown",
   "id": "51e7e29b-cea2-4be5-bba0-4eec08edec10",
   "metadata": {
    "jp-MarkdownHeadingCollapsed": true,
    "tags": []
   },
   "source": [
    "# Imports"
   ]
  },
  {
   "cell_type": "code",
   "execution_count": 1,
   "id": "f792f409-424d-4ee0-bbc3-2a480ad85538",
   "metadata": {},
   "outputs": [],
   "source": [
    "import sys\n",
    "import os"
   ]
  },
  {
   "cell_type": "code",
   "execution_count": 2,
   "id": "e0848129-a6eb-4d2e-a282-9cd8e4de92c3",
   "metadata": {},
   "outputs": [],
   "source": [
    "import math"
   ]
  },
  {
   "cell_type": "code",
   "execution_count": 3,
   "id": "7bae8bbf-5751-4f5a-9cd5-a80556217bdb",
   "metadata": {},
   "outputs": [],
   "source": [
    "import numpy as np"
   ]
  },
  {
   "cell_type": "code",
   "execution_count": 4,
   "id": "445f41cd-5f68-41d0-af9d-0218b3c30a78",
   "metadata": {},
   "outputs": [],
   "source": [
    "import matplotlib.pyplot as plt"
   ]
  },
  {
   "cell_type": "code",
   "execution_count": 5,
   "id": "2b99ab66-af16-4009-abd9-86eafd5514d2",
   "metadata": {},
   "outputs": [],
   "source": [
    "import pandas as pd"
   ]
  },
  {
   "cell_type": "code",
   "execution_count": 6,
   "id": "3b1cbe96-b856-4452-985f-1b4122b770e3",
   "metadata": {},
   "outputs": [],
   "source": [
    "import scipy as sc"
   ]
  },
  {
   "cell_type": "code",
   "execution_count": 7,
   "id": "1d4233e5-8b7c-455e-ab97-9bebefa1c1b2",
   "metadata": {},
   "outputs": [],
   "source": [
    "import mat73"
   ]
  },
  {
   "cell_type": "code",
   "execution_count": 8,
   "id": "4a43f6ae-caf0-4055-8c33-97349adf5b6a",
   "metadata": {},
   "outputs": [],
   "source": [
    "import mne"
   ]
  },
  {
   "cell_type": "code",
   "execution_count": 9,
   "id": "36c15509-b072-48f1-b3d9-2448830b7645",
   "metadata": {},
   "outputs": [],
   "source": [
    "from pyvista import start_xvfb"
   ]
  },
  {
   "cell_type": "markdown",
   "id": "003251f4-3a22-4092-a33f-da23aa1e74c3",
   "metadata": {
    "tags": []
   },
   "source": [
    "## Config"
   ]
  },
  {
   "cell_type": "code",
   "execution_count": 10,
   "id": "d310c98e-cc1c-48f9-be9e-53b7edc1aed6",
   "metadata": {},
   "outputs": [],
   "source": [
    "start_xvfb()"
   ]
  },
  {
   "cell_type": "code",
   "execution_count": 11,
   "id": "77d835e6-96fa-405a-8745-7c26c7972a81",
   "metadata": {},
   "outputs": [],
   "source": [
    "%matplotlib qt"
   ]
  },
  {
   "cell_type": "markdown",
   "id": "c3c34ab5-5129-40df-892b-aa33e0bcf4de",
   "metadata": {
    "jp-MarkdownHeadingCollapsed": true,
    "tags": []
   },
   "source": [
    "# Load Data"
   ]
  },
  {
   "cell_type": "code",
   "execution_count": 12,
   "id": "840bfba6-c6ae-40b2-9a5e-3dc78dcf4fbb",
   "metadata": {},
   "outputs": [],
   "source": [
    "data = mat73.loadmat('data/osfstorage-archive/prfresults.mat')"
   ]
  },
  {
   "cell_type": "code",
   "execution_count": 13,
   "id": "102be02f-853e-4e3e-bdda-dc363bf1053e",
   "metadata": {},
   "outputs": [
    {
     "data": {
      "text/plain": [
       "dict_keys(['allresults', 'ciftifsaveragebad', 'ciftifsaverageix', 'groupsubjectids', 'quants', 'subjectids'])"
      ]
     },
     "execution_count": 13,
     "metadata": {},
     "output_type": "execute_result"
    }
   ],
   "source": [
    "data.keys()"
   ]
  },
  {
   "cell_type": "markdown",
   "id": "577fa95b-27cd-4fdb-8604-5f7c6856d61c",
   "metadata": {},
   "source": [
    "- `allresults` - is 91282 grayordinates x 6 quantities x 184 datasets x 3 model fits with the full set of pRF analysis results.  \n",
    "- `quants` - is a 1 x 6 cell vector with a label for the 6 quantities: {'ang' 'ecc' 'gain' 'meanvol' 'R2' 'rfsize'}.  \n",
    "- `subjectids` - is 184 x 1 with the 6-digit ID for each subject (both individual and group-average subjects).  \n",
    "- `ciftifsaverageix` - is 327684 x 1 with indices into the 91282 CIFTI space. This indexing vector performs a nearest-neighbor mapping from CIFTI to FreeSurfer's fsaverage space. Note that some of the fsaverage vertices do not have a counterpart in the CIFTI space; these vertices are assigned a value of 1 in 'ciftifsaverageix'.  \n",
    "- `ciftifsaveragebad` - is 327684 x 1 with logical values indicating which fsaverage vertices do not have a counterpart in the CIFTI space. These vertices should receive a NaN after performing the indexing-based mapping.  \n",
    "- `groupsubjectids` - is a 1 x 3 cell vector indicating which subjects contributed to the special 999997, 999998, and 999999 group-average subjects, respectively. Each element is a vector of indices (in the range 1-181) in sorted order."
   ]
  },
  {
   "cell_type": "code",
   "execution_count": 14,
   "id": "0a6cb023-285a-4faa-84c8-c2706c636d1d",
   "metadata": {},
   "outputs": [
    {
     "data": {
      "text/plain": [
       "(91282, 6, 184, 3)"
      ]
     },
     "execution_count": 14,
     "metadata": {},
     "output_type": "execute_result"
    }
   ],
   "source": [
    "data[\"allresults\"].shape"
   ]
  },
  {
   "cell_type": "markdown",
   "id": "56e3b927-2b1f-4e6a-a035-e2a81692f737",
   "metadata": {},
   "source": [
    "91282 grayordinates x 6 quantities x 184 datasets x 3 model fits"
   ]
  },
  {
   "cell_type": "code",
   "execution_count": 15,
   "id": "d073c748-40f9-44da-a218-2738bf87126b",
   "metadata": {},
   "outputs": [
    {
     "data": {
      "text/plain": [
       "['ang', 'ecc', 'gain', 'meanvol', 'R2', 'rfsize']"
      ]
     },
     "execution_count": 15,
     "metadata": {},
     "output_type": "execute_result"
    }
   ],
   "source": [
    "data[\"quants\"]"
   ]
  },
  {
   "cell_type": "markdown",
   "id": "7386e41d-0953-44ac-8140-751b6ce63548",
   "metadata": {},
   "source": [
    "- `ang` is the angle of the estimated pRF location. Specifically, it is the angle that the center of the pRF has with respect to the positive x-axis. The range of values is 0-360 and the units are degrees. Note that when the estimated pRF is exactly at the center of gaze (i.e., eccentricity is exactly 0), then angle is ill-defined. Thus, we have explicitly set the angle to NaN for any case in which eccentricity is 0.  \n",
    "- `ecc` is the eccentricity of the estimated pRF location. Specifically, it is the distance from the center of gaze to the center of the pRF. Values are greater than or equal to 0 and the units are degrees of visual angle.  \n",
    "- `gain` is the BOLD response amplitude estimated in the model fit. The units are raw scanner units (same units as the time-series data in the CIFTI files). The value can be interpreted as the amplitude of the BOLD response that is predicted to result from 1 s of full-field visual stimulation.  \n",
    "- `meanvol` is the mean signal intensity observed in the time-series data. The units are raw scanner units (same units as the time-series data in the CIFTI files). Note that some grayordinates have a mean signal intensity that are zero or negative, so be careful (e.g., if converting to percent BOLD signal change).  \n",
    "- `R2` is the amount of variance (R-squared) in the time-series data explained by the pRF model. The values generally range from 0-100 and the units are percentages. Note that R-squared values are computed after projecting out low-order polynomials from both the time-series data and the model fit. Because of this step, R-squared values can sometimes drop below 0%.  \n",
    "- `rfsize` is the size of the estimated pRF. Specifically, it is one standard deviation of a 2D Gaussian that describes the behavior of the grayordinate (see paper for details). Values are positive and the units are degrees of visual angle."
   ]
  },
  {
   "cell_type": "code",
   "execution_count": 16,
   "id": "cc9c201f-95b9-4fe7-9e22-f11377b1675a",
   "metadata": {},
   "outputs": [],
   "source": [
    "# Taking the results corresponding to the pRF model fit based on all data of subject 999999\n",
    "df = pd.DataFrame(data[\"allresults\"][:, :, np.argwhere(data['subjectids'] == 999999).squeeze(), 0], columns=data['quants'])\n",
    "# df.head()"
   ]
  },
  {
   "cell_type": "code",
   "execution_count": 17,
   "id": "b7c51e8e-fa63-486a-a47f-bcb9abcfe10a",
   "metadata": {},
   "outputs": [],
   "source": [
    "atlas = mat73.loadmat('data/osfstorage-archive/atlas.mat')"
   ]
  },
  {
   "cell_type": "code",
   "execution_count": 18,
   "id": "25cb6740-0c59-41d6-8f36-b9daecc9b3b5",
   "metadata": {},
   "outputs": [
    {
     "name": "stdout",
     "output_type": "stream",
     "text": [
      "['Unknown', 'V1v', 'V1d', 'V2v', 'V2d', 'V3v', 'V3d', 'hV4', 'VO1', 'VO2', 'PHC1', 'PHC2', 'TO2', 'TO1', 'LO2', 'LO1', 'V3B', 'V3A', 'IPS0', 'IPS1', 'IPS2', 'IPS3', 'IPS4', 'IPS5', 'SPL1', 'FEF']\n"
     ]
    }
   ],
   "source": [
    "print(atlas['wang2015labels'])"
   ]
  },
  {
   "cell_type": "code",
   "execution_count": 19,
   "id": "9c61d20b-3c7b-4e1d-841e-dc9ad998d42d",
   "metadata": {},
   "outputs": [],
   "source": [
    "df['label'] = np.array(atlas['wang2015labels'])[atlas['wang2015'].astype(int)]"
   ]
  },
  {
   "cell_type": "code",
   "execution_count": 20,
   "id": "8c1d350f-b4ec-45c0-9afd-ab85f836757e",
   "metadata": {},
   "outputs": [
    {
     "data": {
      "text/html": [
       "<div>\n",
       "<style scoped>\n",
       "    .dataframe tbody tr th:only-of-type {\n",
       "        vertical-align: middle;\n",
       "    }\n",
       "\n",
       "    .dataframe tbody tr th {\n",
       "        vertical-align: top;\n",
       "    }\n",
       "\n",
       "    .dataframe thead th {\n",
       "        text-align: right;\n",
       "    }\n",
       "</style>\n",
       "<table border=\"1\" class=\"dataframe\">\n",
       "  <thead>\n",
       "    <tr style=\"text-align: right;\">\n",
       "      <th></th>\n",
       "      <th>ang</th>\n",
       "      <th>ecc</th>\n",
       "      <th>gain</th>\n",
       "      <th>meanvol</th>\n",
       "      <th>R2</th>\n",
       "      <th>rfsize</th>\n",
       "      <th>label</th>\n",
       "    </tr>\n",
       "  </thead>\n",
       "  <tbody>\n",
       "    <tr>\n",
       "      <th>0</th>\n",
       "      <td>17.194132</td>\n",
       "      <td>4.696335</td>\n",
       "      <td>1.690906</td>\n",
       "      <td>11303.163086</td>\n",
       "      <td>10.583216</td>\n",
       "      <td>1.860162</td>\n",
       "      <td>Unknown</td>\n",
       "    </tr>\n",
       "    <tr>\n",
       "      <th>1</th>\n",
       "      <td>326.100861</td>\n",
       "      <td>5.211594</td>\n",
       "      <td>0.634324</td>\n",
       "      <td>12108.946289</td>\n",
       "      <td>4.457683</td>\n",
       "      <td>1.543650</td>\n",
       "      <td>Unknown</td>\n",
       "    </tr>\n",
       "    <tr>\n",
       "      <th>2</th>\n",
       "      <td>11.250000</td>\n",
       "      <td>5.568000</td>\n",
       "      <td>0.438437</td>\n",
       "      <td>11821.662109</td>\n",
       "      <td>2.194166</td>\n",
       "      <td>1.810193</td>\n",
       "      <td>Unknown</td>\n",
       "    </tr>\n",
       "    <tr>\n",
       "      <th>3</th>\n",
       "      <td>11.250000</td>\n",
       "      <td>5.568000</td>\n",
       "      <td>1.775627</td>\n",
       "      <td>12052.477539</td>\n",
       "      <td>11.634434</td>\n",
       "      <td>10.240000</td>\n",
       "      <td>Unknown</td>\n",
       "    </tr>\n",
       "    <tr>\n",
       "      <th>4</th>\n",
       "      <td>333.782410</td>\n",
       "      <td>6.588593</td>\n",
       "      <td>21.910872</td>\n",
       "      <td>12125.067383</td>\n",
       "      <td>63.411598</td>\n",
       "      <td>1.882475</td>\n",
       "      <td>V3A</td>\n",
       "    </tr>\n",
       "  </tbody>\n",
       "</table>\n",
       "</div>"
      ],
      "text/plain": [
       "          ang       ecc       gain       meanvol         R2     rfsize  \\\n",
       "0   17.194132  4.696335   1.690906  11303.163086  10.583216   1.860162   \n",
       "1  326.100861  5.211594   0.634324  12108.946289   4.457683   1.543650   \n",
       "2   11.250000  5.568000   0.438437  11821.662109   2.194166   1.810193   \n",
       "3   11.250000  5.568000   1.775627  12052.477539  11.634434  10.240000   \n",
       "4  333.782410  6.588593  21.910872  12125.067383  63.411598   1.882475   \n",
       "\n",
       "     label  \n",
       "0  Unknown  \n",
       "1  Unknown  \n",
       "2  Unknown  \n",
       "3  Unknown  \n",
       "4      V3A  "
      ]
     },
     "execution_count": 20,
     "metadata": {},
     "output_type": "execute_result"
    }
   ],
   "source": [
    "df.head()"
   ]
  },
  {
   "cell_type": "markdown",
   "id": "6e1e317d-8ce6-4845-872e-38fb98a8cced",
   "metadata": {
    "tags": []
   },
   "source": [
    "# Main"
   ]
  },
  {
   "cell_type": "code",
   "execution_count": 21,
   "id": "721b2396-a0b4-4bb3-98bb-e169975c2f8e",
   "metadata": {},
   "outputs": [],
   "source": [
    "dfv = df[df['label'].isin(('V1v', 'V1d'))]"
   ]
  },
  {
   "cell_type": "code",
   "execution_count": 22,
   "id": "4726d0e2-64c1-4993-8c6b-98bfee7dd4a1",
   "metadata": {},
   "outputs": [
    {
     "data": {
      "text/html": [
       "<div>\n",
       "<style scoped>\n",
       "    .dataframe tbody tr th:only-of-type {\n",
       "        vertical-align: middle;\n",
       "    }\n",
       "\n",
       "    .dataframe tbody tr th {\n",
       "        vertical-align: top;\n",
       "    }\n",
       "\n",
       "    .dataframe thead th {\n",
       "        text-align: right;\n",
       "    }\n",
       "</style>\n",
       "<table border=\"1\" class=\"dataframe\">\n",
       "  <thead>\n",
       "    <tr style=\"text-align: right;\">\n",
       "      <th></th>\n",
       "      <th>ang</th>\n",
       "      <th>ecc</th>\n",
       "      <th>gain</th>\n",
       "      <th>meanvol</th>\n",
       "      <th>R2</th>\n",
       "      <th>rfsize</th>\n",
       "      <th>label</th>\n",
       "    </tr>\n",
       "  </thead>\n",
       "  <tbody>\n",
       "    <tr>\n",
       "      <th>21352</th>\n",
       "      <td>282.324371</td>\n",
       "      <td>3.671535</td>\n",
       "      <td>52.931629</td>\n",
       "      <td>11617.826172</td>\n",
       "      <td>88.788147</td>\n",
       "      <td>0.676684</td>\n",
       "      <td>V1d</td>\n",
       "    </tr>\n",
       "    <tr>\n",
       "      <th>21353</th>\n",
       "      <td>280.628357</td>\n",
       "      <td>3.348240</td>\n",
       "      <td>47.151394</td>\n",
       "      <td>11649.219727</td>\n",
       "      <td>84.843956</td>\n",
       "      <td>0.478202</td>\n",
       "      <td>V1d</td>\n",
       "    </tr>\n",
       "    <tr>\n",
       "      <th>21354</th>\n",
       "      <td>289.487396</td>\n",
       "      <td>3.324515</td>\n",
       "      <td>55.897320</td>\n",
       "      <td>11800.312500</td>\n",
       "      <td>88.069824</td>\n",
       "      <td>0.452826</td>\n",
       "      <td>V1d</td>\n",
       "    </tr>\n",
       "    <tr>\n",
       "      <th>21355</th>\n",
       "      <td>302.966858</td>\n",
       "      <td>3.241618</td>\n",
       "      <td>56.459423</td>\n",
       "      <td>12120.927734</td>\n",
       "      <td>86.946693</td>\n",
       "      <td>0.504809</td>\n",
       "      <td>V1d</td>\n",
       "    </tr>\n",
       "    <tr>\n",
       "      <th>21356</th>\n",
       "      <td>313.990112</td>\n",
       "      <td>3.117386</td>\n",
       "      <td>65.421722</td>\n",
       "      <td>12586.037109</td>\n",
       "      <td>85.429909</td>\n",
       "      <td>0.322909</td>\n",
       "      <td>V1d</td>\n",
       "    </tr>\n",
       "    <tr>\n",
       "      <th>...</th>\n",
       "      <td>...</td>\n",
       "      <td>...</td>\n",
       "      <td>...</td>\n",
       "      <td>...</td>\n",
       "      <td>...</td>\n",
       "      <td>...</td>\n",
       "      <td>...</td>\n",
       "    </tr>\n",
       "    <tr>\n",
       "      <th>53189</th>\n",
       "      <td>292.504730</td>\n",
       "      <td>8.009211</td>\n",
       "      <td>3.703999</td>\n",
       "      <td>11501.517578</td>\n",
       "      <td>10.685963</td>\n",
       "      <td>0.060616</td>\n",
       "      <td>V1d</td>\n",
       "    </tr>\n",
       "    <tr>\n",
       "      <th>53190</th>\n",
       "      <td>23.399443</td>\n",
       "      <td>7.964127</td>\n",
       "      <td>3.469547</td>\n",
       "      <td>11494.819336</td>\n",
       "      <td>8.177179</td>\n",
       "      <td>0.055189</td>\n",
       "      <td>V1d</td>\n",
       "    </tr>\n",
       "    <tr>\n",
       "      <th>53231</th>\n",
       "      <td>146.051498</td>\n",
       "      <td>7.940330</td>\n",
       "      <td>4.313904</td>\n",
       "      <td>11519.063477</td>\n",
       "      <td>17.152845</td>\n",
       "      <td>0.032037</td>\n",
       "      <td>V1d</td>\n",
       "    </tr>\n",
       "    <tr>\n",
       "      <th>53233</th>\n",
       "      <td>33.750000</td>\n",
       "      <td>13.656000</td>\n",
       "      <td>413.173035</td>\n",
       "      <td>11476.839844</td>\n",
       "      <td>5.753297</td>\n",
       "      <td>1.810193</td>\n",
       "      <td>V1d</td>\n",
       "    </tr>\n",
       "    <tr>\n",
       "      <th>53234</th>\n",
       "      <td>33.750000</td>\n",
       "      <td>13.656000</td>\n",
       "      <td>389.590302</td>\n",
       "      <td>11539.729492</td>\n",
       "      <td>5.245829</td>\n",
       "      <td>1.810193</td>\n",
       "      <td>V1d</td>\n",
       "    </tr>\n",
       "  </tbody>\n",
       "</table>\n",
       "<p>750 rows × 7 columns</p>\n",
       "</div>"
      ],
      "text/plain": [
       "              ang        ecc        gain       meanvol         R2    rfsize  \\\n",
       "21352  282.324371   3.671535   52.931629  11617.826172  88.788147  0.676684   \n",
       "21353  280.628357   3.348240   47.151394  11649.219727  84.843956  0.478202   \n",
       "21354  289.487396   3.324515   55.897320  11800.312500  88.069824  0.452826   \n",
       "21355  302.966858   3.241618   56.459423  12120.927734  86.946693  0.504809   \n",
       "21356  313.990112   3.117386   65.421722  12586.037109  85.429909  0.322909   \n",
       "...           ...        ...         ...           ...        ...       ...   \n",
       "53189  292.504730   8.009211    3.703999  11501.517578  10.685963  0.060616   \n",
       "53190   23.399443   7.964127    3.469547  11494.819336   8.177179  0.055189   \n",
       "53231  146.051498   7.940330    4.313904  11519.063477  17.152845  0.032037   \n",
       "53233   33.750000  13.656000  413.173035  11476.839844   5.753297  1.810193   \n",
       "53234   33.750000  13.656000  389.590302  11539.729492   5.245829  1.810193   \n",
       "\n",
       "      label  \n",
       "21352   V1d  \n",
       "21353   V1d  \n",
       "21354   V1d  \n",
       "21355   V1d  \n",
       "21356   V1d  \n",
       "...     ...  \n",
       "53189   V1d  \n",
       "53190   V1d  \n",
       "53231   V1d  \n",
       "53233   V1d  \n",
       "53234   V1d  \n",
       "\n",
       "[750 rows x 7 columns]"
      ]
     },
     "execution_count": 22,
     "metadata": {},
     "output_type": "execute_result"
    }
   ],
   "source": [
    "dfv"
   ]
  },
  {
   "cell_type": "code",
   "execution_count": null,
   "id": "305b1cb3-83bc-4ece-b8d5-d4b6618b0c94",
   "metadata": {},
   "outputs": [],
   "source": []
  }
 ],
 "metadata": {
  "kernelspec": {
   "display_name": "Python 3 (ipykernel)",
   "language": "python",
   "name": "python3"
  },
  "language_info": {
   "codemirror_mode": {
    "name": "ipython",
    "version": 3
   },
   "file_extension": ".py",
   "mimetype": "text/x-python",
   "name": "python",
   "nbconvert_exporter": "python",
   "pygments_lexer": "ipython3",
   "version": "3.9.12"
  }
 },
 "nbformat": 4,
 "nbformat_minor": 5
}
