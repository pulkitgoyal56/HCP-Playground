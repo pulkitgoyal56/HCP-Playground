{
 "cells": [
  {
   "cell_type": "markdown",
   "id": "e6251776-e3e3-49b2-99e5-fa5a9faab790",
   "metadata": {
    "tags": []
   },
   "source": [
    "# Imports"
   ]
  },
  {
   "cell_type": "code",
   "execution_count": 1,
   "id": "f7214543-8e53-43d3-9a1d-c8e1fd183dd4",
   "metadata": {},
   "outputs": [],
   "source": [
    "import sys\n",
    "import os"
   ]
  },
  {
   "cell_type": "code",
   "execution_count": 2,
   "id": "a1e04a84-a9ed-4b0a-8925-fb5ed701ec86",
   "metadata": {},
   "outputs": [],
   "source": [
    "import math"
   ]
  },
  {
   "cell_type": "code",
   "execution_count": 3,
   "id": "a5595fce-8fda-4a4f-866c-71a19bd87328",
   "metadata": {},
   "outputs": [],
   "source": [
    "import numpy as np"
   ]
  },
  {
   "cell_type": "code",
   "execution_count": 4,
   "id": "899d7e0a-b484-479b-bd06-0b9f8c124c35",
   "metadata": {},
   "outputs": [],
   "source": [
    "import matplotlib.pyplot as plt"
   ]
  },
  {
   "cell_type": "code",
   "execution_count": 5,
   "id": "1aad2943-9be0-4aa5-a243-844bfb0c245f",
   "metadata": {},
   "outputs": [],
   "source": [
    "import pandas as pd"
   ]
  },
  {
   "cell_type": "code",
   "execution_count": 6,
   "id": "596acbeb-155b-419d-ac1d-1cd683a59b2d",
   "metadata": {},
   "outputs": [],
   "source": [
    "import boto3"
   ]
  },
  {
   "cell_type": "raw",
   "id": "8cc3a499-710f-422d-8249-19ee339961ad",
   "metadata": {},
   "source": [
    "import pyxnat"
   ]
  },
  {
   "cell_type": "markdown",
   "id": "0ea492d6-c64b-49f1-a04a-58d54dcc1588",
   "metadata": {},
   "source": [
    "# Functions"
   ]
  },
  {
   "cell_type": "code",
   "execution_count": 7,
   "id": "1610e835-7e73-44b9-8091-865cf27e089c",
   "metadata": {},
   "outputs": [],
   "source": [
    "def head(key, bucket='hcp-openaccess'):\n",
    "    return True if client.head_object(Bucket=bucket, Key=key) else False"
   ]
  },
  {
   "cell_type": "code",
   "execution_count": 8,
   "id": "27959562-f38b-4f92-bea5-70240e4c38a4",
   "metadata": {},
   "outputs": [],
   "source": [
    "def ls(path='', bucket='hcp-openaccess', maxkeys=1300, delimiter=False, endslash=True):\n",
    "    # delimiter = not (delimiter and head(path, bucket)) # If delimiter set True by default \n",
    "\n",
    "    path_ = path + '/' if path and not path.endswith('/') and delimiter and endslash else path\n",
    "\n",
    "    if delimiter:\n",
    "        res = client.list_objects(Bucket=bucket, Delimiter='/', Prefix=path_, MaxKeys=maxkeys)\n",
    "    else:\n",
    "        res = client.list_objects(Bucket=bucket, Prefix=path_, MaxKeys=maxkeys)\n",
    "\n",
    "    try:\n",
    "        if delimiter:\n",
    "            return [prefix['Prefix'] for prefix in res['CommonPrefixes']]\n",
    "        else:\n",
    "            return [item['Key'] for item in res['Contents']]\n",
    "    except KeyError:\n",
    "        print(f\"Invalid Path '{path_}' (if it is not, set `delimiter` to False)\")\n",
    "        return False"
   ]
  },
  {
   "cell_type": "code",
   "execution_count": 9,
   "id": "9d557d92-c190-436a-b0f1-20fe2e7ace70",
   "metadata": {},
   "outputs": [],
   "source": [
    "def get(key, bucket='hcp-openaccess'):\n",
    "    # Check if object exists\n",
    "    if not ls(key, bucket, delimiter=False): return\n",
    "    \n",
    "    return client.get_object(Bucket=bucket, Key=key)"
   ]
  },
  {
   "cell_type": "code",
   "execution_count": 10,
   "id": "f784b87b-d34c-4f1a-851d-98c2ec0bfbab",
   "metadata": {},
   "outputs": [],
   "source": [
    "def download(prefix, local='data', bucket='hcp-openaccess'):\n",
    "    local = f'{local}\\\\{bucket}'\n",
    "    keys = []\n",
    "    dirs = []\n",
    "    next_token = ''\n",
    "    base_kwargs = {\n",
    "        'Bucket': bucket,\n",
    "        'Prefix': prefix,\n",
    "    }\n",
    "    while next_token is not None:\n",
    "        kwargs = base_kwargs.copy()\n",
    "        if next_token != '':\n",
    "            kwargs.update({'ContinuationToken': next_token})\n",
    "        results = client.list_objects_v2(**kwargs)\n",
    "        contents = results.get('Contents')\n",
    "        for i in contents:\n",
    "            k = i.get('Key')\n",
    "            if k[-1] != '/':\n",
    "                keys.append(k)\n",
    "            else:\n",
    "                dirs.append(k)\n",
    "        next_token = results.get('NextContinuationToken')\n",
    "    for d in dirs:\n",
    "        dest_pathname = os.path.join(local, d)\n",
    "        if not os.path.exists(os.path.dirname(dest_pathname)):\n",
    "            os.makedirs(os.path.dirname(dest_pathname))\n",
    "    for k in keys:\n",
    "        dest_pathname = os.path.join(local, k)\n",
    "        if not os.path.exists(os.path.dirname(dest_pathname)):\n",
    "            os.makedirs(os.path.dirname(dest_pathname))\n",
    "        client.download_file(bucket, k, dest_pathname)"
   ]
  },
  {
   "cell_type": "markdown",
   "id": "79628e6f-f45f-4941-ad5d-423570878ef0",
   "metadata": {
    "tags": []
   },
   "source": [
    "# Data"
   ]
  },
  {
   "cell_type": "code",
   "execution_count": 11,
   "id": "8eb954be-77e5-4332-8925-83cb232e30e7",
   "metadata": {},
   "outputs": [],
   "source": [
    "client = boto3.client('s3')"
   ]
  },
  {
   "cell_type": "code",
   "execution_count": 12,
   "id": "817b5b9a-a8f1-4929-9d7f-842fdea59b12",
   "metadata": {},
   "outputs": [],
   "source": [
    "resource = boto3.resource('s3')"
   ]
  },
  {
   "cell_type": "markdown",
   "id": "dbbb3102-d82f-4569-b8e6-9300c9d858db",
   "metadata": {},
   "source": [
    "---"
   ]
  },
  {
   "cell_type": "markdown",
   "id": "5f8de3db-1620-448c-8c0a-069c298d7e1a",
   "metadata": {},
   "source": [
    "<div class=\"alert alert-success\">\n",
    "    Buckets\n",
    "</div>"
   ]
  },
  {
   "cell_type": "code",
   "execution_count": 13,
   "id": "3a6ad71c-e1fa-4ee8-9cd7-433d1d2bc270",
   "metadata": {},
   "outputs": [
    {
     "data": {
      "text/plain": [
       "['hcp-openaccess',\n",
       " 'hcp-openaccess-logfiles',\n",
       " 'hcp-openaccess-logs-temp',\n",
       " 'hcp-openaccess-logstorage-temp',\n",
       " 'hcp-openaccess-test']"
      ]
     },
     "execution_count": 13,
     "metadata": {},
     "output_type": "execute_result"
    }
   ],
   "source": [
    "[bucket[\"Name\"] for bucket in client.list_buckets()[\"Buckets\"]]"
   ]
  },
  {
   "cell_type": "markdown",
   "id": "3ee9d2ee-66c4-45e9-b363-e815b51191d7",
   "metadata": {},
   "source": [
    "<div class=\"alert alert-success\">\n",
    "    Top Level Folders in <i>`hcp-openaccess`</i> Bucket\n",
    "</div>"
   ]
  },
  {
   "cell_type": "code",
   "execution_count": 14,
   "id": "68688790-284f-4372-8c0c-6532fc02c089",
   "metadata": {},
   "outputs": [
    {
     "data": {
      "text/plain": [
       "['HCP/',\n",
       " 'HCP_1200/',\n",
       " 'HCP_900/',\n",
       " 'HCP_Resources/',\n",
       " 'HCP_Retest/',\n",
       " 'HCP_WB_Tutorial_1.0/']"
      ]
     },
     "execution_count": 14,
     "metadata": {},
     "output_type": "execute_result"
    }
   ],
   "source": [
    "ls(delimiter=True)"
   ]
  },
  {
   "cell_type": "raw",
   "id": "42804ab1-6459-4a9e-8528-572a7d1bf802",
   "metadata": {
    "tags": []
   },
   "source": [
    "ls('HCP_WB_Tutorial_1.0/')"
   ]
  },
  {
   "cell_type": "code",
   "execution_count": 15,
   "id": "e5dfee54-4e6b-441b-aa25-7d329b48c2e1",
   "metadata": {},
   "outputs": [],
   "source": [
    "download('HCP_WB_Tutorial_1.0/.DS_Store')"
   ]
  }
 ],
 "metadata": {
  "kernelspec": {
   "display_name": "Python 3 (ipykernel)",
   "language": "python",
   "name": "python3"
  },
  "language_info": {
   "codemirror_mode": {
    "name": "ipython",
    "version": 3
   },
   "file_extension": ".py",
   "mimetype": "text/x-python",
   "name": "python",
   "nbconvert_exporter": "python",
   "pygments_lexer": "ipython3",
   "version": "3.9.13"
  }
 },
 "nbformat": 4,
 "nbformat_minor": 5
}
