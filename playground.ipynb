{
 "cells": [
  {
   "cell_type": "markdown",
   "id": "45fdc5a1",
   "metadata": {},
   "source": [
    "# HCP_S3"
   ]
  },
  {
   "cell_type": "code",
   "execution_count": 1,
   "id": "e6712777",
   "metadata": {},
   "outputs": [],
   "source": [
    "from utils import hcp_s3"
   ]
  },
  {
   "cell_type": "code",
   "execution_count": 2,
   "id": "3a6ad71c-e1fa-4ee8-9cd7-433d1d2bc270",
   "metadata": {},
   "outputs": [
    {
     "data": {
      "text/plain": [
       "['hcp-openaccess',\n",
       " 'hcp-openaccess-logfiles',\n",
       " 'hcp-openaccess-logs-temp',\n",
       " 'hcp-openaccess-logstorage-temp',\n",
       " 'hcp-openaccess-test']"
      ]
     },
     "execution_count": 2,
     "metadata": {},
     "output_type": "execute_result"
    }
   ],
   "source": [
    "\n",
    "hcp_s3.list_buckets()"
   ]
  },
  {
   "cell_type": "code",
   "execution_count": 3,
   "id": "68688790-284f-4372-8c0c-6532fc02c089",
   "metadata": {},
   "outputs": [
    {
     "data": {
      "text/plain": [
       "['HCP/',\n",
       " 'HCP_1200/',\n",
       " 'HCP_900/',\n",
       " 'HCP_Resources/',\n",
       " 'HCP_Retest/',\n",
       " 'HCP_WB_Tutorial_1.0/']"
      ]
     },
     "execution_count": 3,
     "metadata": {},
     "output_type": "execute_result"
    }
   ],
   "source": [
    "# List root\n",
    "hcp_s3.ls(delimiter=True)"
   ]
  },
  {
   "cell_type": "code",
   "execution_count": 4,
   "id": "42804ab1-6459-4a9e-8528-572a7d1bf802",
   "metadata": {
    "tags": []
   },
   "outputs": [
    {
     "data": {
      "text/plain": [
       "['HCP_1200/100610/T1w/fsaverage_LR32k/100610.32k_fs_LR.wb.spec',\n",
       " 'HCP_1200/100610/T1w/fsaverage_LR32k/100610.L.inflated.32k_fs_LR.surf.gii',\n",
       " 'HCP_1200/100610/T1w/fsaverage_LR32k/100610.L.inflated_MSMAll.32k_fs_LR.surf.gii',\n",
       " 'HCP_1200/100610/T1w/fsaverage_LR32k/100610.L.midthickness.32k_fs_LR.surf.gii',\n",
       " 'HCP_1200/100610/T1w/fsaverage_LR32k/100610.L.midthickness_MSMAll.32k_fs_LR.surf.gii',\n",
       " 'HCP_1200/100610/T1w/fsaverage_LR32k/100610.L.midthickness_MSMAll_va.32k_fs_LR.shape.gii',\n",
       " 'HCP_1200/100610/T1w/fsaverage_LR32k/100610.L.pial.32k_fs_LR.surf.gii',\n",
       " 'HCP_1200/100610/T1w/fsaverage_LR32k/100610.L.pial_MSMAll.32k_fs_LR.surf.gii',\n",
       " 'HCP_1200/100610/T1w/fsaverage_LR32k/100610.L.very_inflated.32k_fs_LR.surf.gii',\n",
       " 'HCP_1200/100610/T1w/fsaverage_LR32k/100610.L.very_inflated_MSMAll.32k_fs_LR.surf.gii',\n",
       " 'HCP_1200/100610/T1w/fsaverage_LR32k/100610.L.white.32k_fs_LR.surf.gii',\n",
       " 'HCP_1200/100610/T1w/fsaverage_LR32k/100610.L.white_MSMAll.32k_fs_LR.surf.gii',\n",
       " 'HCP_1200/100610/T1w/fsaverage_LR32k/100610.MSMAll.32k_fs_LR.wb.spec',\n",
       " 'HCP_1200/100610/T1w/fsaverage_LR32k/100610.R.inflated.32k_fs_LR.surf.gii',\n",
       " 'HCP_1200/100610/T1w/fsaverage_LR32k/100610.R.inflated_MSMAll.32k_fs_LR.surf.gii',\n",
       " 'HCP_1200/100610/T1w/fsaverage_LR32k/100610.R.midthickness.32k_fs_LR.surf.gii',\n",
       " 'HCP_1200/100610/T1w/fsaverage_LR32k/100610.R.midthickness_MSMAll.32k_fs_LR.surf.gii',\n",
       " 'HCP_1200/100610/T1w/fsaverage_LR32k/100610.R.midthickness_MSMAll_va.32k_fs_LR.shape.gii',\n",
       " 'HCP_1200/100610/T1w/fsaverage_LR32k/100610.R.pial.32k_fs_LR.surf.gii',\n",
       " 'HCP_1200/100610/T1w/fsaverage_LR32k/100610.R.pial_MSMAll.32k_fs_LR.surf.gii',\n",
       " 'HCP_1200/100610/T1w/fsaverage_LR32k/100610.R.very_inflated.32k_fs_LR.surf.gii',\n",
       " 'HCP_1200/100610/T1w/fsaverage_LR32k/100610.R.very_inflated_MSMAll.32k_fs_LR.surf.gii',\n",
       " 'HCP_1200/100610/T1w/fsaverage_LR32k/100610.R.white.32k_fs_LR.surf.gii',\n",
       " 'HCP_1200/100610/T1w/fsaverage_LR32k/100610.R.white_MSMAll.32k_fs_LR.surf.gii',\n",
       " 'HCP_1200/100610/T1w/fsaverage_LR32k/100610.midthickness_MSMAll_va.32k_fs_LR.dscalar.nii',\n",
       " 'HCP_1200/100610/T1w/fsaverage_LR32k/100610.midthickness_MSMAll_va_norm.32k_fs_LR.dscalar.nii']"
      ]
     },
     "execution_count": 4,
     "metadata": {},
     "output_type": "execute_result"
    }
   ],
   "source": [
    "# List a directory\n",
    "hcp_s3.ls('HCP_1200/100610/T1w/fsaverage_LR32k/')"
   ]
  },
  {
   "cell_type": "code",
   "execution_count": 5,
   "id": "e5dfee54-4e6b-441b-aa25-7d329b48c2e1",
   "metadata": {},
   "outputs": [],
   "source": [
    "# Download a file\n",
    "hcp_s3.download('HCP_1200/100610/T1w/fsaverage_LR32k/100610.L.midthickness_MSMAll.32k_fs_LR.surf.gii', local='.temp')"
   ]
  }
 ],
 "metadata": {
  "kernelspec": {
   "display_name": "Python 3.9.12 ('hcp')",
   "language": "python",
   "name": "python3"
  },
  "language_info": {
   "codemirror_mode": {
    "name": "ipython",
    "version": 3
   },
   "file_extension": ".py",
   "mimetype": "text/x-python",
   "name": "python",
   "nbconvert_exporter": "python",
   "pygments_lexer": "ipython3",
   "version": "3.9.12"
  },
  "vscode": {
   "interpreter": {
    "hash": "960fd6541bd8c8e1f76e33587325940cd82de067a2c4c0c93ecfeb002d03d682"
   }
  }
 },
 "nbformat": 4,
 "nbformat_minor": 5
}
